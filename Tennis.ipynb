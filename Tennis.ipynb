{
 "cells": [
  {
   "cell_type": "markdown",
   "metadata": {},
   "source": [
    "# Collaboration and Competition\n",
    "\n",
    "---\n",
    "\n",
    "You are welcome to use this coding environment to train your agent for the project.  Follow the instructions below to get started!\n",
    "\n",
    "### 1. Start the Environment\n",
    "\n",
    "Run the next code cell to install a few packages.  This line will take a few minutes to run!"
   ]
  },
  {
   "cell_type": "code",
   "execution_count": 1,
   "metadata": {},
   "outputs": [
    {
     "name": "stdout",
     "output_type": "stream",
     "text": [
      "\u001b[31mtensorflow 1.7.1 has requirement numpy>=1.13.3, but you'll have numpy 1.12.1 which is incompatible.\u001b[0m\r\n",
      "\u001b[31mipython 6.5.0 has requirement prompt-toolkit<2.0.0,>=1.0.15, but you'll have prompt-toolkit 3.0.22 which is incompatible.\u001b[0m\r\n"
     ]
    }
   ],
   "source": [
    "!pip -q install ./python"
   ]
  },
  {
   "cell_type": "markdown",
   "metadata": {},
   "source": [
    "The environment is already saved in the Workspace and can be accessed at the file path provided below. "
   ]
  },
  {
   "cell_type": "code",
   "execution_count": 2,
   "metadata": {},
   "outputs": [
    {
     "name": "stderr",
     "output_type": "stream",
     "text": [
      "INFO:unityagents:\n",
      "'Academy' started successfully!\n",
      "Unity Academy name: Academy\n",
      "        Number of Brains: 1\n",
      "        Number of External Brains : 1\n",
      "        Lesson number : 0\n",
      "        Reset Parameters :\n",
      "\t\t\n",
      "Unity brain name: TennisBrain\n",
      "        Number of Visual Observations (per agent): 0\n",
      "        Vector Observation space type: continuous\n",
      "        Vector Observation space size (per agent): 8\n",
      "        Number of stacked Vector Observation: 3\n",
      "        Vector Action space type: continuous\n",
      "        Vector Action space size (per agent): 2\n",
      "        Vector Action descriptions: , \n"
     ]
    }
   ],
   "source": [
    "from unityagents import UnityEnvironment\n",
    "import numpy as np\n",
    "\n",
    "env = UnityEnvironment(file_name=\"/data/Tennis_Linux_NoVis/Tennis\")"
   ]
  },
  {
   "cell_type": "markdown",
   "metadata": {},
   "source": [
    "Environments contain **_brains_** which are responsible for deciding the actions of their associated agents. Here we check for the first brain available, and set it as the default brain we will be controlling from Python."
   ]
  },
  {
   "cell_type": "code",
   "execution_count": 3,
   "metadata": {},
   "outputs": [
    {
     "data": {
      "text/plain": [
       "<unityagents.brain.BrainParameters at 0x7fdd1ab82780>"
      ]
     },
     "execution_count": 3,
     "metadata": {},
     "output_type": "execute_result"
    }
   ],
   "source": [
    "# get the default brain\n",
    "brain_name = env.brain_names[0]\n",
    "brain = env.brains[brain_name]\n",
    "brain"
   ]
  },
  {
   "cell_type": "markdown",
   "metadata": {},
   "source": [
    "### 2. Examine the State and Action Spaces\n",
    "\n",
    "Run the code cell below to print some information about the environment."
   ]
  },
  {
   "cell_type": "code",
   "execution_count": 4,
   "metadata": {},
   "outputs": [
    {
     "name": "stdout",
     "output_type": "stream",
     "text": [
      "Number of agents: 2\n",
      "Size of each action: 2\n",
      "There are 2 agents. Each observes a state with length: 24\n",
      "The state for the first agent looks like: [ 0.          0.          0.          0.          0.          0.          0.\n",
      "  0.          0.          0.          0.          0.          0.          0.\n",
      "  0.          0.         -6.65278625 -1.5        -0.          0.\n",
      "  6.83172083  6.         -0.          0.        ]\n"
     ]
    }
   ],
   "source": [
    "# reset the environment\n",
    "env_info = env.reset(train_mode=True)[brain_name]\n",
    "\n",
    "# number of agents \n",
    "num_agents = len(env_info.agents)\n",
    "print('Number of agents:', num_agents)\n",
    "\n",
    "# size of each action\n",
    "action_size = brain.vector_action_space_size\n",
    "print('Size of each action:', action_size)\n",
    "\n",
    "# examine the state space \n",
    "states = env_info.vector_observations\n",
    "state_size = states.shape[1]\n",
    "print('There are {} agents. Each observes a state with length: {}'.format(states.shape[0], state_size))\n",
    "print('The state for the first agent looks like:', states[0])"
   ]
  },
  {
   "cell_type": "markdown",
   "metadata": {},
   "source": [
    "### 3. Take Random Actions in the Environment\n",
    "\n",
    "In the next code cell, you will learn how to use the Python API to control the agent and receive feedback from the environment.\n",
    "\n",
    "Note that **in this coding environment, you will not be able to watch the agents while they are training**, and you should set `train_mode=True` to restart the environment."
   ]
  },
  {
   "cell_type": "code",
   "execution_count": 5,
   "metadata": {},
   "outputs": [
    {
     "name": "stdout",
     "output_type": "stream",
     "text": [
      "Total score (averaged over agents) this episode: -0.004999999888241291\n",
      "Total score (averaged over agents) this episode: 0.04500000085681677\n",
      "Total score (averaged over agents) this episode: -0.004999999888241291\n",
      "Total score (averaged over agents) this episode: -0.004999999888241291\n",
      "Total score (averaged over agents) this episode: -0.004999999888241291\n"
     ]
    }
   ],
   "source": [
    "for i in range(5):                                         # play game for 5 episodes\n",
    "    env_info = env.reset(train_mode=False)[brain_name]     # reset the environment    \n",
    "    states = env_info.vector_observations                  # get the current state (for each agent)\n",
    "    scores = np.zeros(num_agents)                          # initialize the score (for each agent)\n",
    "    while True:\n",
    "        actions = np.random.randn(num_agents, action_size) # select an action (for each agent)\n",
    "        actions = np.clip(actions, -1, 1)                  # all actions between -1 and 1\n",
    "        env_info = env.step(actions)[brain_name]           # send all actions to tne environment\n",
    "        next_states = env_info.vector_observations         # get next state (for each agent)\n",
    "        rewards = env_info.rewards                         # get reward (for each agent)\n",
    "        dones = env_info.local_done                        # see if episode finished\n",
    "        scores += env_info.rewards                         # update the score (for each agent)\n",
    "        states = next_states                               # roll over states to next time step\n",
    "        if np.any(dones):                                  # exit loop if episode finished\n",
    "            break\n",
    "    print('Total score (averaged over agents) this episode: {}'.format(np.mean(scores)))"
   ]
  },
  {
   "cell_type": "markdown",
   "metadata": {},
   "source": [
    "When finished, you can close the environment."
   ]
  },
  {
   "cell_type": "code",
   "execution_count": 6,
   "metadata": {},
   "outputs": [],
   "source": [
    "#env.close()"
   ]
  },
  {
   "cell_type": "markdown",
   "metadata": {},
   "source": [
    "### 4. It's Your Turn!\n",
    "\n",
    "Now it's your turn to train your own agent to solve the environment!  A few **important notes**:\n",
    "- When training the environment, set `train_mode=True`, so that the line for resetting the environment looks like the following:\n",
    "```python\n",
    "env_info = env.reset(train_mode=True)[brain_name]\n",
    "```\n",
    "- To structure your work, you're welcome to work directly in this Jupyter notebook, or you might like to start over with a new file!  You can see the list of files in the workspace by clicking on **_Jupyter_** in the top left corner of the notebook.\n",
    "- In this coding environment, you will not be able to watch the agents while they are training.  However, **_after training the agents_**, you can download the saved model weights to watch the agents on your own machine! "
   ]
  },
  {
   "cell_type": "code",
   "execution_count": 7,
   "metadata": {},
   "outputs": [],
   "source": [
    "import numpy as np\n",
    "from collections import deque\n",
    "import matplotlib.pyplot as plt\n",
    "%matplotlib inline\n",
    "import torch\n",
    "import torch.nn.functional as F\n",
    "\n",
    "from importlib import reload\n",
    "import action_selectors, replay_buffer, status_printer, networks, agents\n",
    "reload(action_selectors)\n",
    "reload(replay_buffer)\n",
    "reload(status_printer)\n",
    "reload(networks)\n",
    "reload(agents)\n",
    "\n",
    "# Modules built in this project\n",
    "from replay_buffer import ReplayBuffer\n",
    "from action_selectors import NoisyActionSelector\n",
    "from networks import Actor, Critic, Actor_resnet, Critic_resnet, Actor_batchn, Critic_batchn\n",
    "from status_printer import StatusPrinter\n",
    "from agents import ddpg_agent"
   ]
  },
  {
   "cell_type": "code",
   "execution_count": 8,
   "metadata": {},
   "outputs": [],
   "source": [
    "device = torch.device(\"cuda:0\" if torch.cuda.is_available() else \"cpu\")\n",
    "config = {\n",
    "    \"replay_buffer\": ReplayBuffer(action_size=action_size, buffer_size=int(5e5), batch_size=32, device=device),\n",
    "    \"actor_network_function\": lambda: Actor_resnet(\n",
    "                 state_size=state_size,\n",
    "                 output_size=action_size,\n",
    "                 seed=1234,\n",
    "                 hidden_layer_neurons=[64,32,32],\n",
    "                 activation_function=F.leaky_relu,\n",
    "                 out_activation_function=F.tanh),\n",
    "    \"critic_network_function\": lambda: Critic_resnet(\n",
    "                 state_size=state_size,\n",
    "                 action_size=action_size,\n",
    "                 output_size=1,\n",
    "                 seed=1234,\n",
    "                 hidden_layer_neurons=[128,64,64,32],\n",
    "                 activation_function=F.leaky_relu,\n",
    "                 out_activation_function=None,\n",
    "                 output_rescaling_function=None),\n",
    "    \"action_selector\": NoisyActionSelector(decay_rate=0.999,\n",
    "                                           init_noise_scale=0.5,\n",
    "                                           auto_update_scale=False,\n",
    "                                           device=device,\n",
    "                                           minimum_noise=0.1),\n",
    "    \"learning_rate_actor\": 1e-4,\n",
    "    \"learning_rate_critic\": 4e-4,    \n",
    "    \"gamma_discount_factor\": 0.99,\n",
    "    \"tau_soft_update\": 5e-4,            # soft update parameter\n",
    "    \"network_optimize_every_n_step\": 4,  # how often to update the networks,\n",
    "    \"learn_iterations\": 2,\n",
    "    \"device\": device,\n",
    "    \"environment_solved_score\": 0.5\n",
    "}"
   ]
  },
  {
   "cell_type": "code",
   "execution_count": 9,
   "metadata": {},
   "outputs": [],
   "source": [
    "agent = ddpg_agent(config)"
   ]
  },
  {
   "cell_type": "code",
   "execution_count": 10,
   "metadata": {},
   "outputs": [
    {
     "name": "stdout",
     "output_type": "stream",
     "text": [
      "Episode 100  Avg: 0.00  Cur: 0.000  Max: 0.10  Min: 0.00  P25: 0.00  P75: 0.00  sum: 0.20  <t>: 0.2\n",
      "Episode 200  Avg: 0.00  Cur: 0.000  Max: 0.00  Min: 0.00  P25: 0.00  P75: 0.00  sum: 0.00  <t>: 0.2\n",
      "Episode 300  Avg: 0.00  Cur: 0.000  Max: 0.00  Min: 0.00  P25: 0.00  P75: 0.00  sum: 0.00  <t>: 0.2\n",
      "Episode 400  Avg: 0.00  Cur: 0.000  Max: 0.00  Min: 0.00  P25: 0.00  P75: 0.00  sum: 0.00  <t>: 0.2\n",
      "Episode 500  Avg: 0.00  Cur: 0.000  Max: 0.10  Min: 0.00  P25: 0.00  P75: 0.00  sum: 0.10  <t>: 0.2\n",
      "Episode 600  Avg: 0.01  Cur: 0.000  Max: 0.10  Min: 0.00  P25: 0.00  P75: 0.00  sum: 0.60  <t>: 0.2\n",
      "Episode 700  Avg: 0.00  Cur: 0.000  Max: 0.00  Min: 0.00  P25: 0.00  P75: 0.00  sum: 0.00  <t>: 0.1\n",
      "Episode 800  Avg: 0.00  Cur: 0.000  Max: 0.10  Min: 0.00  P25: 0.00  P75: 0.00  sum: 0.10  <t>: 0.1\n",
      "Episode 900  Avg: 0.00  Cur: 0.000  Max: 0.00  Min: 0.00  P25: 0.00  P75: 0.00  sum: 0.00  <t>: 0.1\n",
      "Episode 1000  Avg: 0.00  Cur: 0.000  Max: 0.00  Min: 0.00  P25: 0.00  P75: 0.00  sum: 0.00  <t>: 0.1\n",
      "Episode 1100  Avg: 0.00  Cur: 0.000  Max: 0.00  Min: 0.00  P25: 0.00  P75: 0.00  sum: 0.00  <t>: 0.1\n",
      "Episode 1200  Avg: 0.00  Cur: 0.000  Max: 0.00  Min: 0.00  P25: 0.00  P75: 0.00  sum: 0.00  <t>: 0.1\n",
      "Episode 1300  Avg: 0.00  Cur: 0.000  Max: 0.00  Min: 0.00  P25: 0.00  P75: 0.00  sum: 0.00  <t>: 0.1\n",
      "Episode 1400  Avg: 0.00  Cur: 0.000  Max: 0.00  Min: 0.00  P25: 0.00  P75: 0.00  sum: 0.00  <t>: 0.1\n",
      "Episode 1500  Avg: 0.00  Cur: 0.000  Max: 0.00  Min: 0.00  P25: 0.00  P75: 0.00  sum: 0.00  <t>: 0.1\n",
      "Episode 1600  Avg: 0.00  Cur: 0.000  Max: 0.00  Min: 0.00  P25: 0.00  P75: 0.00  sum: 0.00  <t>: 0.1\n",
      "Episode 1700  Avg: 0.00  Cur: 0.000  Max: 0.00  Min: 0.00  P25: 0.00  P75: 0.00  sum: 0.00  <t>: 0.1\n",
      "Episode 1800  Avg: 0.00  Cur: 0.000  Max: 0.00  Min: 0.00  P25: 0.00  P75: 0.00  sum: 0.00  <t>: 0.1\n",
      "Episode 1900  Avg: 0.00  Cur: 0.000  Max: 0.00  Min: 0.00  P25: 0.00  P75: 0.00  sum: 0.00  <t>: 0.1\n",
      "Episode 2000  Avg: 0.00  Cur: 0.000  Max: 0.00  Min: 0.00  P25: 0.00  P75: 0.00  sum: 0.00  <t>: 0.1\n",
      "Episode 2100  Avg: 0.00  Cur: 0.000  Max: 0.10  Min: 0.00  P25: 0.00  P75: 0.00  sum: 0.10  <t>: 0.1\n",
      "Episode 2200  Avg: 0.00  Cur: 0.000  Max: 0.00  Min: 0.00  P25: 0.00  P75: 0.00  sum: 0.00  <t>: 0.1\n",
      "Episode 2300  Avg: 0.01  Cur: 0.000  Max: 0.10  Min: 0.00  P25: 0.00  P75: 0.00  sum: 0.60  <t>: 0.1\n",
      "Episode 2400  Avg: 0.01  Cur: 0.000  Max: 0.10  Min: 0.00  P25: 0.00  P75: 0.00  sum: 1.36  <t>: 0.1\n",
      "Episode 2500  Avg: 0.01  Cur: 0.000  Max: 0.10  Min: 0.00  P25: 0.00  P75: 0.00  sum: 0.59  <t>: 0.1\n",
      "Episode 2600  Avg: 0.01  Cur: 0.000  Max: 0.10  Min: 0.00  P25: 0.00  P75: 0.00  sum: 0.70  <t>: 0.1\n",
      "Episode 2700  Avg: 0.00  Cur: 0.000  Max: 0.10  Min: 0.00  P25: 0.00  P75: 0.00  sum: 0.28  <t>: 0.1\n",
      "Episode 2800  Avg: 0.01  Cur: 0.000  Max: 0.10  Min: 0.00  P25: 0.00  P75: 0.00  sum: 1.09  <t>: 0.1\n",
      "Episode 2900  Avg: 0.01  Cur: 0.000  Max: 0.10  Min: 0.00  P25: 0.00  P75: 0.00  sum: 0.69  <t>: 0.1\n",
      "Episode 3000  Avg: 0.00  Cur: 0.000  Max: 0.10  Min: 0.00  P25: 0.00  P75: 0.00  sum: 0.40  <t>: 0.1\n",
      "Episode 3100  Avg: 0.01  Cur: 0.000  Max: 0.10  Min: 0.00  P25: 0.00  P75: 0.00  sum: 1.10  <t>: 0.1\n",
      "Episode 3200  Avg: 0.00  Cur: 0.000  Max: 0.00  Min: 0.00  P25: 0.00  P75: 0.00  sum: 0.00  <t>: 0.1\n",
      "Episode 3300  Avg: 0.03  Cur: 0.100  Max: 0.20  Min: 0.00  P25: 0.00  P75: 0.09  sum: 2.75  <t>: 0.1\n",
      "Episode 3400  Avg: 0.03  Cur: 0.000  Max: 0.10  Min: 0.00  P25: 0.00  P75: 0.10  sum: 3.18  <t>: 0.1\n",
      "Episode 3500  Avg: 0.02  Cur: 0.000  Max: 0.10  Min: 0.00  P25: 0.00  P75: 0.00  sum: 1.86  <t>: 0.1\n",
      "Episode 3600  Avg: 0.01  Cur: 0.000  Max: 0.10  Min: 0.00  P25: 0.00  P75: 0.00  sum: 0.59  <t>: 0.1\n",
      "Episode 3700  Avg: 0.02  Cur: 0.000  Max: 0.30  Min: 0.00  P25: 0.00  P75: 0.00  sum: 2.09  <t>: 0.1\n",
      "Episode 3800  Avg: 0.02  Cur: 0.000  Max: 0.20  Min: 0.00  P25: 0.00  P75: 0.00  sum: 1.82  <t>: 0.1\n",
      "Episode 3900  Avg: 0.02  Cur: 0.000  Max: 0.10  Min: 0.00  P25: 0.00  P75: 0.00  sum: 1.55  <t>: 0.1\n",
      "Episode 4000  Avg: 0.02  Cur: 0.000  Max: 0.10  Min: 0.00  P25: 0.00  P75: 0.00  sum: 1.60  <t>: 0.1\n",
      "Episode 4100  Avg: 0.01  Cur: 0.000  Max: 0.10  Min: 0.00  P25: 0.00  P75: 0.00  sum: 1.48  <t>: 0.1\n",
      "Episode 4200  Avg: 0.01  Cur: 0.000  Max: 0.10  Min: 0.00  P25: 0.00  P75: 0.00  sum: 1.00  <t>: 0.1\n",
      "Episode 4300  Avg: 0.00  Cur: 0.000  Max: 0.10  Min: 0.00  P25: 0.00  P75: 0.00  sum: 0.40  <t>: 0.1\n",
      "Episode 4400  Avg: 0.00  Cur: 0.000  Max: 0.10  Min: 0.00  P25: 0.00  P75: 0.00  sum: 0.40  <t>: 0.1\n",
      "Episode 4500  Avg: 0.01  Cur: 0.100  Max: 0.10  Min: 0.00  P25: 0.00  P75: 0.00  sum: 1.09  <t>: 0.1\n",
      "Episode 4600  Avg: 0.01  Cur: 0.000  Max: 0.10  Min: 0.00  P25: 0.00  P75: 0.00  sum: 0.80  <t>: 0.1\n",
      "Episode 4700  Avg: 0.02  Cur: 0.000  Max: 0.10  Min: 0.00  P25: 0.00  P75: 0.00  sum: 1.60  <t>: 0.1\n",
      "Episode 4800  Avg: 0.01  Cur: 0.000  Max: 0.10  Min: 0.00  P25: 0.00  P75: 0.00  sum: 0.99  <t>: 0.1\n",
      "Episode 4900  Avg: 0.01  Cur: 0.000  Max: 0.10  Min: 0.00  P25: 0.00  P75: 0.00  sum: 1.39  <t>: 0.1\n",
      "Episode 5000  Avg: 0.01  Cur: 0.000  Max: 0.10  Min: 0.00  P25: 0.00  P75: 0.00  sum: 0.90  <t>: 0.1\n",
      "Episode 5100  Avg: 0.02  Cur: 0.000  Max: 0.60  Min: 0.00  P25: 0.00  P75: 0.00  sum: 1.60  <t>: 0.1\n",
      "Episode 5200  Avg: 0.02  Cur: 0.000  Max: 0.40  Min: 0.00  P25: 0.00  P75: 0.00  sum: 1.90  <t>: 0.1\n",
      "Episode 5300  Avg: 0.01  Cur: 0.100  Max: 0.30  Min: 0.00  P25: 0.00  P75: 0.00  sum: 1.38  <t>: 0.1\n",
      "Episode 5400  Avg: 0.01  Cur: 0.000  Max: 0.30  Min: 0.00  P25: 0.00  P75: 0.00  sum: 1.10  <t>: 0.1\n",
      "Episode 5500  Avg: 0.01  Cur: 0.090  Max: 0.60  Min: 0.00  P25: 0.00  P75: 0.00  sum: 1.24  <t>: 0.1\n",
      "Episode 5600  Avg: 0.02  Cur: 0.000  Max: 0.10  Min: 0.00  P25: 0.00  P75: 0.00  sum: 2.19  <t>: 0.1\n",
      "Episode 5700  Avg: 0.02  Cur: 0.000  Max: 0.20  Min: 0.00  P25: 0.00  P75: 0.00  sum: 1.96  <t>: 0.1\n",
      "Episode 5800  Avg: 0.01  Cur: 0.000  Max: 0.10  Min: 0.00  P25: 0.00  P75: 0.00  sum: 0.78  <t>: 0.1\n",
      "Episode 5900  Avg: 0.01  Cur: 0.000  Max: 0.10  Min: 0.00  P25: 0.00  P75: 0.00  sum: 1.49  <t>: 0.1\n",
      "Episode 6000  Avg: 0.03  Cur: 0.000  Max: 0.20  Min: 0.00  P25: 0.00  P75: 0.09  sum: 2.86  <t>: 0.1\n",
      "Episode 6100  Avg: 0.04  Cur: 0.000  Max: 0.10  Min: 0.00  P25: 0.00  P75: 0.10  sum: 3.77  <t>: 0.2\n",
      "Episode 6200  Avg: 0.05  Cur: 0.090  Max: 0.30  Min: 0.00  P25: 0.00  P75: 0.10  sum: 5.09  <t>: 0.2\n",
      "Episode 6300  Avg: 0.05  Cur: 0.100  Max: 0.10  Min: 0.00  P25: 0.00  P75: 0.10  sum: 4.78  <t>: 0.2\n",
      "Episode 6400  Avg: 0.05  Cur: 0.100  Max: 0.20  Min: 0.00  P25: 0.00  P75: 0.10  sum: 4.73  <t>: 0.2\n",
      "Episode 6500  Avg: 0.10  Cur: 0.100  Max: 0.70  Min: 0.00  P25: 0.10  P75: 0.10  sum: 10.44  <t>: 0.2\n",
      "Episode 6600  Avg: 0.09  Cur: 0.100  Max: 0.30  Min: 0.00  P25: 0.09  P75: 0.10  sum: 8.66  <t>: 0.21\n",
      "Episode 6700  Avg: 0.08  Cur: 0.000  Max: 0.20  Min: 0.00  P25: 0.00  P75: 0.10  sum: 7.70  <t>: 0.2\n",
      "Episode 6800  Avg: 0.02  Cur: 0.000  Max: 0.30  Min: 0.00  P25: 0.00  P75: 0.00  sum: 2.07  <t>: 0.1\n",
      "Episode 6900  Avg: 0.06  Cur: 0.100  Max: 0.30  Min: 0.00  P25: 0.00  P75: 0.10  sum: 6.08  <t>: 0.2\n",
      "Episode 7000  Avg: 0.14  Cur: 0.100  Max: 0.70  Min: 0.00  P25: 0.10  P75: 0.20  sum: 14.37  <t>: 0.4\n",
      "Episode 7100  Avg: 0.15  Cur: 0.400  Max: 0.60  Min: 0.00  P25: 0.10  P75: 0.20  sum: 15.37  <t>: 0.5\n",
      "Episode 7200  Avg: 0.17  Cur: 0.100  Max: 0.90  Min: 0.00  P25: 0.10  P75: 0.20  sum: 17.04  <t>: 0.5\n",
      "Episode 7300  Avg: 0.26  Cur: 0.100  Max: 2.30  Min: 0.00  P25: 0.10  P75: 0.30  sum: 25.92  <t>: 0.7\n",
      "Episode 7400  Avg: 0.27  Cur: 0.100  Max: 1.99  Min: 0.00  P25: 0.10  P75: 0.30  sum: 27.22  <t>: 0.8\n",
      "Episode 7500  Avg: 0.27  Cur: 0.500  Max: 1.30  Min: 0.00  P25: 0.10  P75: 0.40  sum: 26.90  <t>: 0.8\n",
      "Episode 7600  Avg: 0.35  Cur: 0.900  Max: 1.89  Min: 0.00  P25: 0.10  P75: 0.50  sum: 35.30  <t>: 1.1\n",
      "Episode 7700  Avg: 0.12  Cur: 0.100  Max: 1.00  Min: 0.00  P25: 0.09  P75: 0.10  sum: 12.10  <t>: 0.4\n",
      "Episode 7800  Avg: 0.11  Cur: 0.100  Max: 0.80  Min: 0.00  P25: 0.00  P75: 0.10  sum: 10.76  <t>: 0.4\n",
      "Episode 7900  Avg: 0.14  Cur: 0.000  Max: 0.90  Min: 0.00  P25: 0.10  P75: 0.10  sum: 14.36  <t>: 0.5\n",
      "Episode 8000  Avg: 0.38  Cur: 0.400  Max: 2.30  Min: 0.00  P25: 0.10  P75: 0.50  sum: 37.91  <t>: 1.3\n",
      "Episode 8100  Avg: 0.46  Cur: 1.200  Max: 2.60  Min: 0.00  P25: 0.10  P75: 0.50  sum: 45.66  <t>: 1.5\n",
      "Episode 8115  Avg: 0.52  Cur: 2.500  Max: 2.60  Min: 0.00  P25: 0.10  P75: 0.59  sum: 51.64   t : 7.3Environment solved in 8015 episodes!\tAverage Score: 0.52\n"
     ]
    }
   ],
   "source": [
    "from datetime import datetime\n",
    "def continous_control(n_episodes=10000, score_windows_len=100):\n",
    "    scores_window = deque(maxlen=score_windows_len)\n",
    "    scores = []\n",
    "    statusprinter = StatusPrinter(score_windows_len)\n",
    "    for i_episode in range(1, n_episodes+1):\n",
    "        saved_log_probs = []\n",
    "        env_info = env.reset(train_mode=True)[brain_name]\n",
    "        states = env_info.vector_observations \n",
    "        #print(states)\n",
    "        scores_episode = np.zeros(num_agents)                          # initialize the score (for each agent)\n",
    "        while True:\n",
    "            actions = agent.act(states) # select an action (for each agent)\n",
    "            actions = actions.clamp(-1, 1)                  # all actions between -1 and 1\n",
    "            #print(actions)\n",
    "            env_info = env.step(actions.cpu().numpy())[brain_name]           # send all actions to tne environment\n",
    "            next_states = env_info.vector_observations        # get next state (for each agent)\n",
    "            dones = np.array(env_info.local_done)                    # see if episode finished\n",
    "            rewards = np.array(env_info.rewards)                     # update the score (for each agent)\n",
    "            agent.step(states, actions, rewards, next_states, dones)\n",
    "            states = next_states                      # roll over states to next time step\n",
    "            scores_episode += rewards\n",
    "            if np.any(dones):                                  # exit loop if episode finished\n",
    "                break\n",
    "        s = np.max(scores_episode)\n",
    "        scores_window.append(s)\n",
    "        scores.append(s)\n",
    "        \n",
    "        agent.action_selector.step_next_episode()\n",
    "        \n",
    "        #status_printer(scores_window, score_windows_len, i_episode)\n",
    "        statusprinter.print_status(scores_window, i_episode)\n",
    "        if np.mean(scores_window)>=0.5:\n",
    "            print('Environment solved in {:d} episodes!\\tAverage Score: {:.2f}'.format(i_episode-100, np.mean(scores_window)))\n",
    "            t = datetime.now().isoformat()\n",
    "            torch.save(agent.critic_local.state_dict(), f'critic_checkpoint_{t}.pth')\n",
    "            torch.save(agent.actor_local.state_dict(), f'actor_checkpoint_{t}.pth')\n",
    "            break\n",
    "        \n",
    "    return scores\n",
    "   \n",
    "scores = continous_control()"
   ]
  },
  {
   "cell_type": "code",
   "execution_count": 11,
   "metadata": {},
   "outputs": [
    {
     "name": "stderr",
     "output_type": "stream",
     "text": [
      "/opt/conda/lib/python3.6/site-packages/matplotlib/figure.py:418: UserWarning: matplotlib is currently using a non-GUI backend, so cannot show the figure\n",
      "  \"matplotlib is currently using a non-GUI backend, \"\n"
     ]
    },
    {
     "data": {
      "image/png": "[encoded data removed]",
      "text/plain": [
       "<matplotlib.figure.Figure at 0x7fdcdb9dd518>"
      ]
     },
     "metadata": {
      "needs_background": "light"
     },
     "output_type": "display_data"
    }
   ],
   "source": [
    "import matplotlib.pyplot as plt\n",
    "score_window_len=100\n",
    "#environment_solved_score = agent.config[\"environment_solved_score\"]\n",
    "environment_solved_score = .5\n",
    "# compute rolling average with a discrete convolution of ones (to make a sum)\n",
    "# prepended with a list of 0s to account for initial episodes\n",
    "rolling_average = np.convolve(\n",
    "    np.ones(score_window_len),\n",
    "    np.append(np.zeros(score_window_len-1),np.array(scores)), \n",
    "    'vvalid')/score_window_len\n",
    "\n",
    "# plot the scores\n",
    "np.zeros(100)\n",
    "xs = np.arange(len(scores))\n",
    "fig = plt.figure(figsize=[12,8])\n",
    "ax = fig.add_subplot(111)\n",
    "h1 = ax.plot(xs, scores, '.-')\n",
    "h2 = ax.plot(xs, rolling_average)\n",
    "h3 = ax.plot(xs, environment_solved_score*np.ones(len(scores)), ':')\n",
    "ax.set_ylabel('Score')\n",
    "ax.set_xlabel('Episode #')\n",
    "ax.legend([\"scores\", \"rolling average\", \"target score\"])\n",
    "fig.show()\n",
    "fig.savefig(\"scores.png\", dpi=400)"
   ]
  },
  {
   "cell_type": "code",
   "execution_count": null,
   "metadata": {},
   "outputs": [],
   "source": []
  }
 ],
 "metadata": {
  "kernelspec": {
   "display_name": "Python 3",
   "language": "python",
   "name": "python3"
  },
  "language_info": {
   "codemirror_mode": {
    "name": "ipython",
    "version": 3
   },
   "file_extension": ".py",
   "mimetype": "text/x-python",
   "name": "python",
   "nbconvert_exporter": "python",
   "pygments_lexer": "ipython3",
   "version": "3.6.3"
  }
 },
 "nbformat": 4,
 "nbformat_minor": 2
}
